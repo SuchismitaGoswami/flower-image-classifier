{
 "cells": [
  {
   "cell_type": "markdown",
   "metadata": {},
   "source": [
    "# Introduction\n",
    "\n",
    "In this project, you will build a neural network of your own design to evaluate the CIFAR-10 dataset.\n",
    "\n",
    "To meet the requirements for this project, you will need to achieve an accuracy greater than 45%. \n",
    "If you want to beat Detectocorp's algorithm, you'll need to achieve an accuracy greater than 70%. \n",
    "(Beating Detectocorp's algorithm is not a requirement for passing this project, but you're encouraged to try!)\n",
    "\n",
    "Some of the benchmark results on CIFAR-10 include:\n",
    "\n",
    "78.9% Accuracy | [Deep Belief Networks; Krizhevsky, 2010](https://www.cs.toronto.edu/~kriz/conv-cifar10-aug2010.pdf)\n",
    "\n",
    "90.6% Accuracy | [Maxout Networks; Goodfellow et al., 2013](https://arxiv.org/pdf/1302.4389.pdf)\n",
    "\n",
    "96.0% Accuracy | [Wide Residual Networks; Zagoruyko et al., 2016](https://arxiv.org/pdf/1605.07146.pdf)\n",
    "\n",
    "99.0% Accuracy | [GPipe; Huang et al., 2018](https://arxiv.org/pdf/1811.06965.pdf)\n",
    "\n",
    "98.5% Accuracy | [Rethinking Recurrent Neural Networks and other Improvements for ImageClassification; Nguyen et al., 2020](https://arxiv.org/pdf/2007.15161.pdf)\n",
    "\n",
    "Research with this dataset is ongoing. Notably, many of these networks are quite large and quite expensive to train. \n",
    "\n",
    "## Imports"
   ]
  },
  {
   "cell_type": "code",
   "execution_count": 1,
   "metadata": {},
   "outputs": [],
   "source": [
    "## This cell contains the essential imports you will need – DO NOT CHANGE THE CONTENTS! ##\n",
    "import torch\n",
    "import torch.nn as nn\n",
    "import torch.nn.functional as F\n",
    "import torch.optim as optim\n",
    "import torchvision\n",
    "import torchvision.transforms as transforms\n",
    "import matplotlib.pyplot as plt\n",
    "import numpy as np\n",
    "from torchvision import datasets\n",
    "from torch.utils.data.sampler import SubsetRandomSampler"
   ]
  },
  {
   "cell_type": "markdown",
   "metadata": {},
   "source": [
    "## Load the Dataset\n",
    "\n",
    "Specify your transforms as a list first.\n",
    "The transforms module is already loaded as `transforms`.\n",
    "\n",
    "CIFAR-10 is fortunately included in the torchvision module.\n",
    "Then, you can create your dataset using the `CIFAR10` object from `torchvision.datasets` ([the documentation is available here](https://pytorch.org/docs/stable/torchvision/datasets.html#cifar)).\n",
    "Make sure to specify `download=True`! \n",
    "\n",
    "Once your dataset is created, you'll also need to define a `DataLoader` from the `torch.utils.data` module for both the train and the test set."
   ]
  },
  {
   "cell_type": "code",
   "execution_count": 2,
   "metadata": {},
   "outputs": [
    {
     "name": "stdout",
     "output_type": "stream",
     "text": [
      "Files already downloaded and verified\n",
      "Files already downloaded and verified\n"
     ]
    }
   ],
   "source": [
    "# number of subprocesses to use for data loading\n",
    "num_workers = 0\n",
    "# how many samples per batch to load\n",
    "batch_size = 32\n",
    "test_batch_size = 16\n",
    "# percentage of training set to use as validation\n",
    "valid_size = 0.2\n",
    "\n",
    "# Augmenting train data by random cropping and flipping (also helped with overfitting)\n",
    "train_transform = transforms.Compose(\n",
    "    [transforms.RandomCrop(32, padding=4),\n",
    "    transforms.RandomHorizontalFlip(),\n",
    "    transforms.ToTensor(),\n",
    "    transforms.Normalize((0.5, 0.5, 0.5), (0.5, 0.5, 0.5))])\n",
    "\n",
    "# No augmenting for test set\n",
    "test_transform = transforms.Compose(\n",
    "    [transforms.ToTensor(),\n",
    "     transforms.Normalize((0.5, 0.5, 0.5), (0.5, 0.5, 0.5))])\n",
    "\n",
    "# choose the training and test datasets\n",
    "train_data = datasets.CIFAR10('data', train=True,\n",
    "                              download=True, transform=train_transform)\n",
    "test_data = datasets.CIFAR10('data', train=False,\n",
    "                             download=True, transform=test_transform)\n",
    "\n",
    "# obtain training indices that will be used for validation\n",
    "num_train = len(train_data)\n",
    "indices = list(range(num_train))\n",
    "np.random.shuffle(indices)\n",
    "split = int(np.floor(valid_size * num_train))\n",
    "train_idx, valid_idx = indices[split:], indices[:split]\n",
    "\n",
    "# define samplers for obtaining training and validation batches\n",
    "train_sampler = SubsetRandomSampler(train_idx)\n",
    "valid_sampler = SubsetRandomSampler(valid_idx)\n",
    "\n",
    "# prepare data loaders (combine dataset and sampler)\n",
    "train_loader = torch.utils.data.DataLoader(train_data, batch_size=batch_size,\n",
    "    sampler=train_sampler, num_workers=num_workers)\n",
    "valid_loader = torch.utils.data.DataLoader(train_data, batch_size=batch_size, \n",
    "    sampler=valid_sampler, num_workers=num_workers)\n",
    "test_loader = torch.utils.data.DataLoader(test_data, batch_size=test_batch_size, \n",
    "    num_workers=num_workers, shuffle=False)\n",
    "\n",
    "# The 10 classes in the dataset\n",
    "classes = ('plane', 'car', 'bird', 'cat', 'deer', 'dog', 'frog', 'horse', 'ship', 'truck')"
   ]
  },
  {
   "cell_type": "markdown",
   "metadata": {},
   "source": [
    "## Explore the Dataset\n",
    "Using matplotlib, numpy, and torch, explore the dimensions of your data.\n",
    "\n",
    "You can view images using the `show5` function defined below – it takes a data loader as an argument.\n",
    "Remember that normalized images will look really weird to you! You may want to try changing your transforms to view images.\n",
    "Typically using no transforms other than `toTensor()` works well for viewing – but not as well for training your network.\n",
    "If `show5` doesn't work, go back and check your code for creating your data loaders and your training/test sets."
   ]
  },
  {
   "cell_type": "code",
   "execution_count": 3,
   "metadata": {},
   "outputs": [],
   "source": [
    "def show5(img_loader):\n",
    "    dataiter = iter(img_loader)\n",
    "    \n",
    "    batch = next(dataiter)\n",
    "    labels = batch[1][0:5]\n",
    "    images = batch[0][0:5]\n",
    "    for i in range(5):\n",
    "        print(classes[labels[i]])\n",
    "    \n",
    "        image = images[i].numpy()\n",
    "        image = image / 2 + 0.5\n",
    "        plt.imshow(np.rot90(image.T, k=3))\n",
    "        plt.show()"
   ]
  },
  {
   "cell_type": "code",
   "execution_count": 4,
   "metadata": {},
   "outputs": [
    {
     "name": "stdout",
     "output_type": "stream",
     "text": [
      "cat\n"
     ]
    },
    {
     "data": {
      "image/png": "[encoded data removed]",
      "text/plain": [
       "<matplotlib.figure.Figure at 0x7f70b29cfd30>"
      ]
     },
     "metadata": {
      "needs_background": "light"
     },
     "output_type": "display_data"
    },
    {
     "name": "stdout",
     "output_type": "stream",
     "text": [
      "ship\n"
     ]
    },
    {
     "data": {
      "image/png": "[encoded data removed]",
      "text/plain": [
       "<matplotlib.figure.Figure at 0x7f704e2bf7b8>"
      ]
     },
     "metadata": {
      "needs_background": "light"
     },
     "output_type": "display_data"
    },
    {
     "name": "stdout",
     "output_type": "stream",
     "text": [
      "ship\n"
     ]
    },
    {
     "data": {
      "image/png": "[encoded data removed]",
      "text/plain": [
       "<matplotlib.figure.Figure at 0x7f704c1f7550>"
      ]
     },
     "metadata": {
      "needs_background": "light"
     },
     "output_type": "display_data"
    },
    {
     "name": "stdout",
     "output_type": "stream",
     "text": [
      "plane\n"
     ]
    },
    {
     "data": {
      "image/png": "[encoded data removed]",
      "text/plain": [
       "<matplotlib.figure.Figure at 0x7f704c1c2518>"
      ]
     },
     "metadata": {
      "needs_background": "light"
     },
     "output_type": "display_data"
    },
    {
     "name": "stdout",
     "output_type": "stream",
     "text": [
      "frog\n"
     ]
    },
    {
     "data": {
      "image/png": "[encoded data removed]",
      "text/plain": [
       "<matplotlib.figure.Figure at 0x7f704c1446d8>"
      ]
     },
     "metadata": {
      "needs_background": "light"
     },
     "output_type": "display_data"
    }
   ],
   "source": [
    "# Explore data\n",
    "show5(test_loader)"
   ]
  },
  {
   "cell_type": "markdown",
   "metadata": {},
   "source": [
    "## Build your Neural Network\n",
    "Using the layers in `torch.nn` (which has been imported as `nn`) and the `torch.nn.functional` module (imported as `F`), construct a neural network based on the parameters of the dataset. \n",
    "Feel free to construct a model of any architecture – feedforward, convolutional, or even something more advanced!"
   ]
  },
  {
   "cell_type": "code",
   "execution_count": 4,
   "metadata": {},
   "outputs": [
    {
     "name": "stdout",
     "output_type": "stream",
     "text": [
      "CUDA is available!  Training on GPU ...\n"
     ]
    }
   ],
   "source": [
    "import torch\n",
    "import numpy as np\n",
    "\n",
    "# check if CUDA is available\n",
    "train_on_gpu = torch.cuda.is_available()\n",
    "\n",
    "if not train_on_gpu:\n",
    "    print('CUDA is not available.  Training on CPU ...')\n",
    "else:\n",
    "    print('CUDA is available!  Training on GPU ...')"
   ]
  },
  {
   "cell_type": "code",
   "execution_count": 5,
   "metadata": {},
   "outputs": [
    {
     "name": "stdout",
     "output_type": "stream",
     "text": [
      "Net(\n",
      "  (conv1): Conv2d(3, 16, kernel_size=(3, 3), stride=(1, 1), padding=(1, 1))\n",
      "  (conv2): Conv2d(16, 32, kernel_size=(3, 3), stride=(1, 1), padding=(1, 1))\n",
      "  (conv3): Conv2d(32, 64, kernel_size=(3, 3), stride=(1, 1), padding=(1, 1))\n",
      "  (pool): MaxPool2d(kernel_size=2, stride=2, padding=0, dilation=1, ceil_mode=False)\n",
      "  (fc1): Linear(in_features=1024, out_features=500, bias=True)\n",
      "  (fc2): Linear(in_features=500, out_features=10, bias=True)\n",
      "  (dropout): Dropout(p=0.25)\n",
      ")\n"
     ]
    }
   ],
   "source": [
    "## YOUR CODE HERE ##\n",
    "import torch.nn as nn\n",
    "import torch.nn.functional as F\n",
    "\n",
    "# define the CNN architecture\n",
    "class Net(nn.Module):\n",
    "    def __init__(self):\n",
    "        super(Net, self).__init__()\n",
    "        # convolutional layer (sees 32x32x3 image tensor)\n",
    "        self.conv1 = nn.Conv2d(3, 16, 3, padding=1)\n",
    "        # convolutional layer (sees 16x16x16 tensor)\n",
    "        self.conv2 = nn.Conv2d(16, 32, 3, padding=1)\n",
    "        # convolutional layer (sees 8x8x32 tensor)\n",
    "        self.conv3 = nn.Conv2d(32, 64, 3, padding=1)\n",
    "        # max pooling layer\n",
    "        self.pool = nn.MaxPool2d(2, 2)\n",
    "        # linear layer (64 * 4 * 4 -> 500)\n",
    "        self.fc1 = nn.Linear(64 * 4 * 4, 500)\n",
    "        # linear layer (500 -> 10)\n",
    "        self.fc2 = nn.Linear(500, 10)\n",
    "        # dropout layer (p=0.25)\n",
    "        self.dropout = nn.Dropout(0.25)\n",
    "\n",
    "    def forward(self, x):\n",
    "        x = self.pool(F.relu(self.conv1(x)))\n",
    "        x = self.pool(F.relu(self.conv2(x)))\n",
    "        x = self.pool(F.relu(self.conv3(x)))\n",
    "        x = x.view(-1, 64 * 4 * 4)\n",
    "        x = self.dropout(x)\n",
    "        x = F.relu(self.fc1(x))\n",
    "        x = self.dropout(x)\n",
    "        x = self.fc2(x)\n",
    "        return x\n",
    "\n",
    "# create a complete CNN\n",
    "model = Net()\n",
    "print(model)\n",
    "\n",
    "# move tensors to GPU if CUDA is available\n",
    "if train_on_gpu:\n",
    "    model.cuda()"
   ]
  },
  {
   "cell_type": "markdown",
   "metadata": {},
   "source": [
    "Specify a loss function and an optimizer, and instantiate the model.\n",
    "\n",
    "If you use a less common loss function, please note why you chose that loss function in a comment."
   ]
  },
  {
   "cell_type": "code",
   "execution_count": 6,
   "metadata": {},
   "outputs": [],
   "source": [
    "import torch.optim as optim\n",
    "\n",
    "# specify loss function (categorical cross-entropy)\n",
    "criterion = nn.CrossEntropyLoss()\n",
    "\n",
    "# specify optimizer\n",
    "optimizer = optim.SGD(model.parameters(), lr=0.01)"
   ]
  },
  {
   "cell_type": "markdown",
   "metadata": {},
   "source": [
    "## Running your Neural Network\n",
    "Use whatever method you like to train your neural network, and ensure you record the average loss at each epoch. \n",
    "Don't forget to use `torch.device()` and the `.to()` method for both your model and your data if you are using GPU!\n",
    "\n",
    "If you want to print your loss during each epoch, you can use the `enumerate` function and print the loss after a set number of batches. 250 batches works well for most people!"
   ]
  },
  {
   "cell_type": "code",
   "execution_count": 7,
   "metadata": {},
   "outputs": [
    {
     "name": "stdout",
     "output_type": "stream",
     "text": [
      "Epoch: 1 \tTraining Loss: 2.247172 \tValidation Loss: 2.071277\n",
      "Validation loss decreased (inf --> 2.071277).  Saving model ...\n",
      "Epoch: 2 \tTraining Loss: 2.002165 \tValidation Loss: 1.905464\n",
      "Validation loss decreased (2.071277 --> 1.905464).  Saving model ...\n",
      "Epoch: 3 \tTraining Loss: 1.849719 \tValidation Loss: 1.713428\n",
      "Validation loss decreased (1.905464 --> 1.713428).  Saving model ...\n",
      "Epoch: 4 \tTraining Loss: 1.709610 \tValidation Loss: 1.609958\n",
      "Validation loss decreased (1.713428 --> 1.609958).  Saving model ...\n",
      "Epoch: 5 \tTraining Loss: 1.613973 \tValidation Loss: 1.540439\n",
      "Validation loss decreased (1.609958 --> 1.540439).  Saving model ...\n",
      "Epoch: 6 \tTraining Loss: 1.544559 \tValidation Loss: 1.449705\n",
      "Validation loss decreased (1.540439 --> 1.449705).  Saving model ...\n",
      "Epoch: 7 \tTraining Loss: 1.486974 \tValidation Loss: 1.415126\n",
      "Validation loss decreased (1.449705 --> 1.415126).  Saving model ...\n",
      "Epoch: 8 \tTraining Loss: 1.436103 \tValidation Loss: 1.362670\n",
      "Validation loss decreased (1.415126 --> 1.362670).  Saving model ...\n",
      "Epoch: 9 \tTraining Loss: 1.404225 \tValidation Loss: 1.304613\n",
      "Validation loss decreased (1.362670 --> 1.304613).  Saving model ...\n",
      "Epoch: 10 \tTraining Loss: 1.356131 \tValidation Loss: 1.258464\n",
      "Validation loss decreased (1.304613 --> 1.258464).  Saving model ...\n",
      "Epoch: 11 \tTraining Loss: 1.321217 \tValidation Loss: 1.257592\n",
      "Validation loss decreased (1.258464 --> 1.257592).  Saving model ...\n",
      "Epoch: 12 \tTraining Loss: 1.287235 \tValidation Loss: 1.200895\n",
      "Validation loss decreased (1.257592 --> 1.200895).  Saving model ...\n",
      "Epoch: 13 \tTraining Loss: 1.254704 \tValidation Loss: 1.171344\n",
      "Validation loss decreased (1.200895 --> 1.171344).  Saving model ...\n",
      "Epoch: 14 \tTraining Loss: 1.221261 \tValidation Loss: 1.155127\n",
      "Validation loss decreased (1.171344 --> 1.155127).  Saving model ...\n",
      "Epoch: 15 \tTraining Loss: 1.198403 \tValidation Loss: 1.127671\n",
      "Validation loss decreased (1.155127 --> 1.127671).  Saving model ...\n",
      "Epoch: 16 \tTraining Loss: 1.165145 \tValidation Loss: 1.106314\n",
      "Validation loss decreased (1.127671 --> 1.106314).  Saving model ...\n",
      "Epoch: 17 \tTraining Loss: 1.136592 \tValidation Loss: 1.068149\n",
      "Validation loss decreased (1.106314 --> 1.068149).  Saving model ...\n",
      "Epoch: 18 \tTraining Loss: 1.117148 \tValidation Loss: 1.033333\n",
      "Validation loss decreased (1.068149 --> 1.033333).  Saving model ...\n",
      "Epoch: 19 \tTraining Loss: 1.089892 \tValidation Loss: 1.032087\n",
      "Validation loss decreased (1.033333 --> 1.032087).  Saving model ...\n",
      "Epoch: 20 \tTraining Loss: 1.068315 \tValidation Loss: 0.984157\n",
      "Validation loss decreased (1.032087 --> 0.984157).  Saving model ...\n",
      "Epoch: 21 \tTraining Loss: 1.058634 \tValidation Loss: 0.968369\n",
      "Validation loss decreased (0.984157 --> 0.968369).  Saving model ...\n",
      "Epoch: 22 \tTraining Loss: 1.033140 \tValidation Loss: 0.954078\n",
      "Validation loss decreased (0.968369 --> 0.954078).  Saving model ...\n",
      "Epoch: 23 \tTraining Loss: 1.010121 \tValidation Loss: 0.926184\n",
      "Validation loss decreased (0.954078 --> 0.926184).  Saving model ...\n",
      "Epoch: 24 \tTraining Loss: 0.989889 \tValidation Loss: 0.917248\n",
      "Validation loss decreased (0.926184 --> 0.917248).  Saving model ...\n",
      "Epoch: 25 \tTraining Loss: 0.973741 \tValidation Loss: 0.897295\n",
      "Validation loss decreased (0.917248 --> 0.897295).  Saving model ...\n",
      "Epoch: 26 \tTraining Loss: 0.959398 \tValidation Loss: 0.883396\n",
      "Validation loss decreased (0.897295 --> 0.883396).  Saving model ...\n",
      "Epoch: 27 \tTraining Loss: 0.945461 \tValidation Loss: 0.887372\n",
      "Epoch: 28 \tTraining Loss: 0.929426 \tValidation Loss: 0.863754\n",
      "Validation loss decreased (0.883396 --> 0.863754).  Saving model ...\n",
      "Epoch: 29 \tTraining Loss: 0.919345 \tValidation Loss: 0.861918\n",
      "Validation loss decreased (0.863754 --> 0.861918).  Saving model ...\n",
      "Epoch: 30 \tTraining Loss: 0.901325 \tValidation Loss: 0.825994\n",
      "Validation loss decreased (0.861918 --> 0.825994).  Saving model ...\n",
      "Epoch: 31 \tTraining Loss: 0.889107 \tValidation Loss: 0.826117\n",
      "Epoch: 32 \tTraining Loss: 0.880167 \tValidation Loss: 0.826598\n",
      "Epoch: 33 \tTraining Loss: 0.868891 \tValidation Loss: 0.791146\n",
      "Validation loss decreased (0.825994 --> 0.791146).  Saving model ...\n",
      "Epoch: 34 \tTraining Loss: 0.863353 \tValidation Loss: 0.797485\n",
      "Epoch: 35 \tTraining Loss: 0.848911 \tValidation Loss: 0.803739\n",
      "Epoch: 36 \tTraining Loss: 0.847067 \tValidation Loss: 0.778171\n",
      "Validation loss decreased (0.791146 --> 0.778171).  Saving model ...\n",
      "Epoch: 37 \tTraining Loss: 0.830567 \tValidation Loss: 0.774445\n",
      "Validation loss decreased (0.778171 --> 0.774445).  Saving model ...\n",
      "Epoch: 38 \tTraining Loss: 0.829436 \tValidation Loss: 0.757676\n",
      "Validation loss decreased (0.774445 --> 0.757676).  Saving model ...\n",
      "Epoch: 39 \tTraining Loss: 0.811377 \tValidation Loss: 0.752028\n",
      "Validation loss decreased (0.757676 --> 0.752028).  Saving model ...\n",
      "Epoch: 40 \tTraining Loss: 0.802771 \tValidation Loss: 0.746093\n",
      "Validation loss decreased (0.752028 --> 0.746093).  Saving model ...\n",
      "Epoch: 41 \tTraining Loss: 0.801267 \tValidation Loss: 0.735747\n",
      "Validation loss decreased (0.746093 --> 0.735747).  Saving model ...\n",
      "Epoch: 42 \tTraining Loss: 0.795821 \tValidation Loss: 0.730438\n",
      "Validation loss decreased (0.735747 --> 0.730438).  Saving model ...\n",
      "Epoch: 43 \tTraining Loss: 0.783596 \tValidation Loss: 0.726834\n",
      "Validation loss decreased (0.730438 --> 0.726834).  Saving model ...\n",
      "Epoch: 44 \tTraining Loss: 0.779766 \tValidation Loss: 0.754489\n",
      "Epoch: 45 \tTraining Loss: 0.771882 \tValidation Loss: 0.717917\n",
      "Validation loss decreased (0.726834 --> 0.717917).  Saving model ...\n",
      "Epoch: 46 \tTraining Loss: 0.767188 \tValidation Loss: 0.742646\n",
      "Epoch: 47 \tTraining Loss: 0.760599 \tValidation Loss: 0.694249\n",
      "Validation loss decreased (0.717917 --> 0.694249).  Saving model ...\n",
      "Epoch: 48 \tTraining Loss: 0.756556 \tValidation Loss: 0.702487\n",
      "Epoch: 49 \tTraining Loss: 0.749546 \tValidation Loss: 0.717174\n",
      "Epoch: 50 \tTraining Loss: 0.744848 \tValidation Loss: 0.699692\n",
      "Epoch: 51 \tTraining Loss: 0.735937 \tValidation Loss: 0.708206\n",
      "Epoch: 52 \tTraining Loss: 0.731579 \tValidation Loss: 0.677582\n",
      "Validation loss decreased (0.694249 --> 0.677582).  Saving model ...\n",
      "Epoch: 53 \tTraining Loss: 0.726381 \tValidation Loss: 0.672614\n",
      "Validation loss decreased (0.677582 --> 0.672614).  Saving model ...\n",
      "Epoch: 54 \tTraining Loss: 0.724209 \tValidation Loss: 0.676677\n",
      "Epoch: 55 \tTraining Loss: 0.716868 \tValidation Loss: 0.674120\n",
      "Epoch: 56 \tTraining Loss: 0.715519 \tValidation Loss: 0.671668\n",
      "Validation loss decreased (0.672614 --> 0.671668).  Saving model ...\n",
      "Epoch: 57 \tTraining Loss: 0.711749 \tValidation Loss: 0.665968\n",
      "Validation loss decreased (0.671668 --> 0.665968).  Saving model ...\n",
      "Epoch: 58 \tTraining Loss: 0.702290 \tValidation Loss: 0.676500\n",
      "Epoch: 59 \tTraining Loss: 0.698607 \tValidation Loss: 0.662068\n",
      "Validation loss decreased (0.665968 --> 0.662068).  Saving model ...\n",
      "Epoch: 60 \tTraining Loss: 0.692453 \tValidation Loss: 0.659680\n",
      "Validation loss decreased (0.662068 --> 0.659680).  Saving model ...\n",
      "Epoch: 61 \tTraining Loss: 0.697354 \tValidation Loss: 0.675068\n",
      "Epoch: 62 \tTraining Loss: 0.686994 \tValidation Loss: 0.658806\n",
      "Validation loss decreased (0.659680 --> 0.658806).  Saving model ...\n",
      "Epoch: 63 \tTraining Loss: 0.678946 \tValidation Loss: 0.654981\n",
      "Validation loss decreased (0.658806 --> 0.654981).  Saving model ...\n",
      "Epoch: 64 \tTraining Loss: 0.677099 \tValidation Loss: 0.654567\n",
      "Validation loss decreased (0.654981 --> 0.654567).  Saving model ...\n",
      "Epoch: 65 \tTraining Loss: 0.680718 \tValidation Loss: 0.638070\n",
      "Validation loss decreased (0.654567 --> 0.638070).  Saving model ...\n",
      "Epoch: 66 \tTraining Loss: 0.672762 \tValidation Loss: 0.636862\n",
      "Validation loss decreased (0.638070 --> 0.636862).  Saving model ...\n",
      "Epoch: 67 \tTraining Loss: 0.671487 \tValidation Loss: 0.641821\n",
      "Epoch: 68 \tTraining Loss: 0.662535 \tValidation Loss: 0.633824\n",
      "Validation loss decreased (0.636862 --> 0.633824).  Saving model ...\n",
      "Epoch: 69 \tTraining Loss: 0.663275 \tValidation Loss: 0.627332\n",
      "Validation loss decreased (0.633824 --> 0.627332).  Saving model ...\n",
      "Epoch: 70 \tTraining Loss: 0.657239 \tValidation Loss: 0.639525\n",
      "Epoch: 71 \tTraining Loss: 0.658087 \tValidation Loss: 0.624965\n",
      "Validation loss decreased (0.627332 --> 0.624965).  Saving model ...\n",
      "Epoch: 72 \tTraining Loss: 0.653950 \tValidation Loss: 0.636833\n",
      "Epoch: 73 \tTraining Loss: 0.645796 \tValidation Loss: 0.650070\n",
      "Epoch: 74 \tTraining Loss: 0.646259 \tValidation Loss: 0.620798\n",
      "Validation loss decreased (0.624965 --> 0.620798).  Saving model ...\n",
      "Epoch: 75 \tTraining Loss: 0.644744 \tValidation Loss: 0.615257\n",
      "Validation loss decreased (0.620798 --> 0.615257).  Saving model ...\n",
      "Epoch: 76 \tTraining Loss: 0.639302 \tValidation Loss: 0.616713\n",
      "Epoch: 77 \tTraining Loss: 0.637880 \tValidation Loss: 0.618568\n",
      "Epoch: 78 \tTraining Loss: 0.637146 \tValidation Loss: 0.626790\n",
      "Epoch: 79 \tTraining Loss: 0.634008 \tValidation Loss: 0.612988\n",
      "Validation loss decreased (0.615257 --> 0.612988).  Saving model ...\n",
      "Epoch: 80 \tTraining Loss: 0.627553 \tValidation Loss: 0.617789\n",
      "Epoch: 81 \tTraining Loss: 0.627241 \tValidation Loss: 0.621274\n",
      "Epoch: 82 \tTraining Loss: 0.617879 \tValidation Loss: 0.640298\n",
      "Epoch: 83 \tTraining Loss: 0.621535 \tValidation Loss: 0.610412\n",
      "Validation loss decreased (0.612988 --> 0.610412).  Saving model ...\n",
      "Epoch: 84 \tTraining Loss: 0.613452 \tValidation Loss: 0.643749\n",
      "Epoch: 85 \tTraining Loss: 0.612187 \tValidation Loss: 0.615641\n",
      "Epoch: 86 \tTraining Loss: 0.613155 \tValidation Loss: 0.615839\n",
      "Epoch: 87 \tTraining Loss: 0.607976 \tValidation Loss: 0.596370\n",
      "Validation loss decreased (0.610412 --> 0.596370).  Saving model ...\n",
      "Epoch: 88 \tTraining Loss: 0.607991 \tValidation Loss: 0.611935\n",
      "Epoch: 89 \tTraining Loss: 0.602941 \tValidation Loss: 0.609356\n",
      "Epoch: 90 \tTraining Loss: 0.602821 \tValidation Loss: 0.599520\n",
      "Epoch: 91 \tTraining Loss: 0.600841 \tValidation Loss: 0.610617\n",
      "Epoch: 92 \tTraining Loss: 0.597627 \tValidation Loss: 0.604791\n",
      "Epoch: 93 \tTraining Loss: 0.598193 \tValidation Loss: 0.594084\n",
      "Validation loss decreased (0.596370 --> 0.594084).  Saving model ...\n",
      "Epoch: 94 \tTraining Loss: 0.591831 \tValidation Loss: 0.591166\n",
      "Validation loss decreased (0.594084 --> 0.591166).  Saving model ...\n",
      "Epoch: 95 \tTraining Loss: 0.591257 \tValidation Loss: 0.584933\n",
      "Validation loss decreased (0.591166 --> 0.584933).  Saving model ...\n",
      "Epoch: 96 \tTraining Loss: 0.586752 \tValidation Loss: 0.580451\n",
      "Validation loss decreased (0.584933 --> 0.580451).  Saving model ...\n",
      "Epoch: 97 \tTraining Loss: 0.587930 \tValidation Loss: 0.588067\n",
      "Epoch: 98 \tTraining Loss: 0.581567 \tValidation Loss: 0.583722\n",
      "Epoch: 99 \tTraining Loss: 0.585118 \tValidation Loss: 0.593074\n",
      "Epoch: 100 \tTraining Loss: 0.580210 \tValidation Loss: 0.581493\n"
     ]
    }
   ],
   "source": [
    "# number of epochs to train the model\n",
    "n_epochs = 100\n",
    "\n",
    "valid_loss_min = np.Inf # track change in validation loss\n",
    "train_losses=[]\n",
    "eval_losses=[]\n",
    "\n",
    "for epoch in range(1, n_epochs+1):\n",
    "\n",
    "    # keep track of training and validation loss\n",
    "    train_loss = 0.0\n",
    "    valid_loss = 0.0\n",
    "    \n",
    "    ###################\n",
    "    # train the model #\n",
    "    ###################\n",
    "    model.train()\n",
    "    for data, target in train_loader:\n",
    "        # move tensors to GPU if CUDA is available\n",
    "        if train_on_gpu:\n",
    "            data, target = data.cuda(), target.cuda()\n",
    "        # clear the gradients of all optimized variables\n",
    "        optimizer.zero_grad()\n",
    "        # forward pass: compute predicted outputs by passing inputs to the model\n",
    "        output = model(data)\n",
    "        # calculate the batch loss\n",
    "        loss = criterion(output, target)\n",
    "        # backward pass: compute gradient of the loss with respect to model parameters\n",
    "        loss.backward()\n",
    "        # perform a single optimization step (parameter update)\n",
    "        optimizer.step()\n",
    "        # update training loss\n",
    "        train_loss += loss.item()*data.size(0)\n",
    "        \n",
    "    ######################    \n",
    "    # validate the model #\n",
    "    ######################\n",
    "    model.eval()\n",
    "    for data, target in valid_loader:\n",
    "        # move tensors to GPU if CUDA is available\n",
    "        if train_on_gpu:\n",
    "            data, target = data.cuda(), target.cuda()\n",
    "        # forward pass: compute predicted outputs by passing inputs to the model\n",
    "        output = model(data)\n",
    "        # calculate the batch loss\n",
    "        loss = criterion(output, target)\n",
    "        # update average validation loss \n",
    "        valid_loss += loss.item()*data.size(0)\n",
    "    \n",
    "    # calculate average losses\n",
    "    train_loss = train_loss/len(train_loader.sampler)\n",
    "    valid_loss = valid_loss/len(valid_loader.sampler)\n",
    "    train_losses.append(train_loss)\n",
    "    eval_losses.append(valid_loss)\n",
    "    # print training/validation statistics \n",
    "    print('Epoch: {} \\tTraining Loss: {:.6f} \\tValidation Loss: {:.6f}'.format(\n",
    "        epoch, train_loss, valid_loss))\n",
    "    \n",
    "    # save model if validation loss has decreased\n",
    "    if valid_loss <= valid_loss_min:\n",
    "        print('Validation loss decreased ({:.6f} --> {:.6f}).  Saving model ...'.format(\n",
    "        valid_loss_min,\n",
    "        valid_loss))\n",
    "        torch.save(model.state_dict(), 'model_cifar.pt')\n",
    "        valid_loss_min = valid_loss"
   ]
  },
  {
   "cell_type": "markdown",
   "metadata": {},
   "source": [
    "Plot the training loss (and validation loss/accuracy, if recorded)."
   ]
  },
  {
   "cell_type": "code",
   "execution_count": 8,
   "metadata": {
    "scrolled": true
   },
   "outputs": [
    {
     "data": {
      "image/png": "[encoded data removed]",
      "text/plain": [
       "<matplotlib.figure.Figure at 0x7f015229feb8>"
      ]
     },
     "metadata": {
      "needs_background": "light"
     },
     "output_type": "display_data"
    }
   ],
   "source": [
    "plt.plot(train_losses,'-o')\n",
    "plt.plot(eval_losses,'-o')\n",
    "plt.xlabel('epoch')\n",
    "plt.ylabel('Loss')\n",
    "plt.legend(['Train','Valid'])\n",
    "plt.title('Train vs Valid Loss')\n",
    "\n",
    "plt.show()"
   ]
  },
  {
   "cell_type": "markdown",
   "metadata": {},
   "source": [
    "## Testing your model\n",
    "Using the previously created `DataLoader` for the test set, compute the percentage of correct predictions using the highest probability prediction. \n",
    "\n",
    "If your accuracy is over 70%, great work! \n",
    "This is a hard task to exceed 70% on.\n",
    "\n",
    "If your accuracy is under 45%, you'll need to make improvements.\n",
    "Go back and check your model architecture, loss function, and optimizer to make sure they're appropriate for an image classification task."
   ]
  },
  {
   "cell_type": "code",
   "execution_count": 10,
   "metadata": {},
   "outputs": [
    {
     "name": "stdout",
     "output_type": "stream",
     "text": [
      "Test Loss: 0.558981\n",
      "\n",
      "Test Accuracy of plane: 87% (872/1000)\n",
      "Test Accuracy of   car: 92% (927/1000)\n",
      "Test Accuracy of  bird: 70% (708/1000)\n",
      "Test Accuracy of   cat: 63% (632/1000)\n",
      "Test Accuracy of  deer: 80% (801/1000)\n",
      "Test Accuracy of   dog: 71% (712/1000)\n",
      "Test Accuracy of  frog: 89% (897/1000)\n",
      "Test Accuracy of horse: 80% (809/1000)\n",
      "Test Accuracy of  ship: 87% (878/1000)\n",
      "Test Accuracy of truck: 86% (863/1000)\n",
      "\n",
      "Test Accuracy (Overall): 80% (8099/10000)\n"
     ]
    }
   ],
   "source": [
    "# track test loss\n",
    "test_loss = 0.0\n",
    "class_correct = list(0. for i in range(10))\n",
    "class_total = list(0. for i in range(10))\n",
    "\n",
    "model.eval()\n",
    "# iterate over test data\n",
    "for data, target in test_loader:\n",
    "    # move tensors to GPU if CUDA is available\n",
    "    if train_on_gpu:\n",
    "        data, target = data.cuda(), target.cuda()\n",
    "    # forward pass: compute predicted outputs by passing inputs to the model\n",
    "    output = model(data)\n",
    "    # calculate the batch loss\n",
    "    loss = criterion(output, target)\n",
    "    # update test loss \n",
    "    test_loss += loss.item()*data.size(0)\n",
    "    # convert output probabilities to predicted class\n",
    "    _, pred = torch.max(output, 1)    \n",
    "    # compare predictions to true label\n",
    "    correct_tensor = pred.eq(target.data.view_as(pred))\n",
    "    correct = np.squeeze(correct_tensor.numpy()) if not train_on_gpu else np.squeeze(correct_tensor.cpu().numpy())\n",
    "    # calculate test accuracy for each object class\n",
    "    for i in range(test_batch_size):\n",
    "        label = target.data[i]\n",
    "        class_correct[label] += correct[i].item()\n",
    "        class_total[label] += 1\n",
    "\n",
    "# average test loss\n",
    "test_loss = test_loss/len(test_loader.dataset)\n",
    "print('Test Loss: {:.6f}\\n'.format(test_loss))\n",
    "\n",
    "for i in range(10):\n",
    "    if class_total[i] > 0:\n",
    "        print('Test Accuracy of %5s: %2d%% (%2d/%2d)' % (\n",
    "            classes[i], 100 * class_correct[i] / class_total[i],\n",
    "            np.sum(class_correct[i]), np.sum(class_total[i])))\n",
    "    else:\n",
    "        print('Test Accuracy of %5s: N/A (no training examples)' % (classes[i]))\n",
    "\n",
    "print('\\nTest Accuracy (Overall): %2d%% (%2d/%2d)' % (\n",
    "    100. * np.sum(class_correct) / np.sum(class_total),\n",
    "    np.sum(class_correct), np.sum(class_total)))"
   ]
  },
  {
   "cell_type": "markdown",
   "metadata": {},
   "source": [
    "## Saving your model\n",
    "Using `torch.save`, save your model for future loading."
   ]
  },
  {
   "cell_type": "code",
   "execution_count": 11,
   "metadata": {},
   "outputs": [],
   "source": [
    "torch.save(model.state_dict(), 'model_cifar.pt')"
   ]
  },
  {
   "cell_type": "markdown",
   "metadata": {},
   "source": [
    "## Make a Recommendation\n",
    "\n",
    "Based on your evaluation, what is your recommendation on whether to build or buy? Explain your reasoning below.\n",
    "\n",
    "Some things to consider as you formulate your recommendation:\n",
    "* How does your model compare to Detectocorp's model?\n",
    "* How does it compare to the far more advanced solutions in the literature? \n",
    "* What did you do to get the accuracy you achieved? \n",
    "* Is it necessary to improve this accuracy? If so, what sort of work would be involved in improving it?"
   ]
  },
  {
   "cell_type": "markdown",
   "metadata": {},
   "source": [
    "- **How does your model compare to Detectocorp's model?**\n",
    "  - The accuracy of the proposed model is more than the Detectocorp's model.\n",
    "- **How does it compare to the far more advanced solutions in the literature?**\n",
    "  - To compare it with more advanced solution, the following points could be considered \n",
    "    - Dropout Layer has been included as an effective regularization method to reduce overfitting and improve generalization error.\n",
    "    - Validation set has been used to measure the performance of the model to avoid overfitting.\n",
    "    - Rectified Linear Unit or ReLU activation function has been used to to avoid \"vanishing gradient\" problem , i.e., the tendency for the gradient of a neuron to approach zero for high values of the input.\n",
    "    - Normalization has been applied as the pre-processing step so that gradient descents can converge faster.\n",
    "- **What did you do to get the accuracy you achieved?**\n",
    "  - Added Dropout layer\n",
    "  - Used ReLu Activation function\n",
    "  - Used Validation set\n",
    "- **Is it necessary to improve this accuracy? If so, what sort of work would be involved in improving it?**\n",
    "  - Yes, the model performance can be improved further. This model seems to do best on vehicles rather than animals. \n",
    "    - Therefore, experimenting with smaller learning rate could be helpful to allow the model takes small steps in the right direction during the training.\n",
    "    - More convultional layer could be added and model could be trained to verify its performance to detect finer patterns in these images.\n"
   ]
  },
  {
   "cell_type": "markdown",
   "metadata": {},
   "source": [
    "## Submit Your Project\n",
    "\n",
    "When you are finished editing the notebook and are ready to turn it in, simply click the **SUBMIT PROJECT** button in the lower right.\n",
    "\n",
    "Once you submit your project, we'll review your work and give you feedback if there's anything that you need to work on. If you'd like to see the exact points that your reviewer will check for when looking at your work, you can have a look over the project [rubric](https://review.udacity.com/#!/rubrics/3077/view)."
   ]
  }
 ],
 "metadata": {
  "kernelspec": {
   "display_name": "Python 3",
   "language": "python",
   "name": "python3"
  },
  "language_info": {
   "codemirror_mode": {
    "name": "ipython",
    "version": 3
   },
   "file_extension": ".py",
   "mimetype": "text/x-python",
   "name": "python",
   "nbconvert_exporter": "python",
   "pygments_lexer": "ipython3",
   "version": "3.6.3"
  }
 },
 "nbformat": 4,
 "nbformat_minor": 4
}
